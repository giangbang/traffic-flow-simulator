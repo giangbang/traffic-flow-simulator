{
 "cells": [
  {
   "cell_type": "code",
   "execution_count": 1,
   "metadata": {},
   "outputs": [],
   "source": [
    "import os\n",
    "import sys\n",
    "import optparse\n",
    "from environment import environment\n",
    "from sumolib import checkBinary  # Checks for the binary in environ vars\n",
    "import traci\n",
    "from agent import agents\n",
    "import matplotlib.pyplot as plt "
   ]
  },
  {
   "cell_type": "code",
   "execution_count": 2,
   "metadata": {},
   "outputs": [
    {
     "name": "stdout",
     "output_type": "stream",
     "text": [
      "added SUMO_HOME to tools directory\n",
      "C:\\Program Files (x86)\\Eclipse\\Sumo\\\n"
     ]
    }
   ],
   "source": [
    "if 'SUMO_HOME' in os.environ:\n",
    "    tools = os.path.join(os.environ['SUMO_HOME'], 'tools')\n",
    "    sys.path.append(tools)\n",
    "    print('added SUMO_HOME to tools directory')\n",
    "else:\n",
    "    sys.exit(\"please declare environment variable 'SUMO_HOME'\")\n",
    "\n",
    "print(os.environ['SUMO_HOME'])"
   ]
  },
  {
   "cell_type": "code",
   "execution_count": 3,
   "metadata": {},
   "outputs": [
    {
     "name": "stdout",
     "output_type": "stream",
     "text": [
      "C:\\Program Files (x86)\\Eclipse\\Sumo\\bin\\sumo\n",
      "C:\\Program Files (x86)\\Eclipse\\Sumo\\bin\\sumo-gui\n"
     ]
    }
   ],
   "source": [
    "sumoBinaryNoGui = checkBinary('sumo')\n",
    "sumoBinary = checkBinary('sumo-gui')\n",
    "\n",
    "nogui = [sumoBinaryNoGui, \"-c\", \"tmp.sumocfg\", '--no-warnings']\n",
    "gui = [sumoBinary, \"-c\", \"tmp.sumocfg\",\n",
    "                           '--quit-on-end']\n",
    "\n",
    "print(sumoBinaryNoGui)\n",
    "print(sumoBinary)"
   ]
  },
  {
   "cell_type": "code",
   "execution_count": 4,
   "metadata": {},
   "outputs": [],
   "source": [
    "def default_run():\n",
    "    traci.start(gui)\n",
    "    step = 0\n",
    "    env = environment()\n",
    "    traci.trafficlight.setPhase('0', 0)\n",
    "    action = [0]\n",
    "    while traci.simulation.getMinExpectedNumber() > 0:\n",
    "        traci.simulationStep()\n",
    "        step += 1\n",
    "    print('total waiting time of defaul cyclic traffic light', step)\n",
    "    traci.close()"
   ]
  },
  {
   "cell_type": "code",
   "execution_count": 6,
   "metadata": {},
   "outputs": [],
   "source": [
    "agent = None\n",
    "env = None\n",
    "# contains TraCI control loop\n",
    "def run(episodes):\n",
    "                             \n",
    "    traci.start(nogui)\n",
    "    env = environment()\n",
    "    agent = agents(env.state_size(), env.action_size())\n",
    "#     agent.load_policy('model.pt')\n",
    "    traci.close()\n",
    "    epsilon = 0.1\n",
    "    ep = 0.\n",
    "    while ep < episodes:\n",
    "        ep+=1\n",
    "        print(ep)\n",
    "        epsilon = ep / (episodes - 1.1)\n",
    "\n",
    "#         if (ep == episodes - 1):\n",
    "#             traci.start(gui)\n",
    "#         else: \n",
    "        traci.start(nogui)\n",
    "        step = 0\n",
    "        prev = env.getState()\n",
    "        reward = env.reward()\n",
    "        action = agent.select_actions(1 , prev)\n",
    "        print(action)\n",
    "        print(epsilon)\n",
    "        while traci.simulation.getMinExpectedNumber() > 0 and step < 5e3:\n",
    "            traci.simulationStep()\n",
    "            env.do_action(action)\n",
    "            env.cumulateWaitingTime()\n",
    "            if (step % 20 == 0):\n",
    "                state = env.getState()\n",
    "                reward = env.reward()\n",
    "#                 print('reward:', reward)\n",
    "                agent.add_memmory(prev, action, state, reward)\n",
    "                action = agent.select_actions(epsilon , state)\n",
    "                \n",
    "            agent.train()\n",
    "            step += 1\n",
    "        print(len(agent.mem))      \n",
    "        if (step >= 5e3-1):\n",
    "            print('fail to complete the episode')\n",
    "        print(step)\n",
    "        traci.close()\n",
    "        \n",
    "    agent.save_policy('model.pt')\n",
    "    sys.stdout.flush()\n",
    "    agent.plot()"
   ]
  },
  {
   "cell_type": "code",
   "execution_count": 6,
   "metadata": {},
   "outputs": [
    {
     "name": "stdout",
     "output_type": "stream",
     "text": [
      "{'0': ['GGGGGgrrrrrrrrgGGGGgrrrrrrrGr', 'GGGGGgrrrrrrrrgGGGGgrrrrrrrrr', 'yyyyygrrrrrrrryyyyygrrrrrrrrr', 'rrrrrGrrrrrrrrrrrrrGrrrrrrrrr', 'rrrrryrrrrrrrrrrrrryrrrrrrrrr', 'rrrrrrGGGGGGGgrrrrrrgGGGGggrG', 'rrrrrrGGGGGGGgrrrrrrgGGGGggrr', 'rrrrrryyyyyyyyrrrrrryyyyyyyrr']}\n",
      "{'0': {'11_1', '21_0', '41_2', '11_0', '11_3', '31_0', '21_4', '11_2', '41_3', ':0_w1_0', '31_1', '21_2', '31_3', '41_0', ':0_w2_0', '21_3', '21_1', '31_2', '41_1'}}\n",
      "total waiting time of defaul cyclic traffic light 1335\n"
     ]
    }
   ],
   "source": [
    "default_run()"
   ]
  },
  {
   "cell_type": "code",
   "execution_count": 7,
   "metadata": {
    "scrolled": true
   },
   "outputs": [
    {
     "name": "stdout",
     "output_type": "stream",
     "text": [
      "{'0': ['GGGGGgrrrrrrrrgGGGGgrrrrrrrGr', 'GGGGGgrrrrrrrrgGGGGgrrrrrrrrr', 'yyyyygrrrrrrrryyyyygrrrrrrrrr', 'rrrrrGrrrrrrrrrrrrrGrrrrrrrrr', 'rrrrryrrrrrrrrrrrrryrrrrrrrrr', 'rrrrrrGGGGGGGgrrrrrrgGGGGggrG', 'rrrrrrGGGGGGGgrrrrrrgGGGGggrr', 'rrrrrryyyyyyyyrrrrrryyyyyyyrr']}\n",
      "{'0': {'11_0', '31_0', '21_2', '11_3', ':0_w2_0', '11_1', '31_2', ':0_w1_0', '31_1', '21_3', '21_0', '41_3', '11_2', '41_0', '21_1', '41_2', '41_1', '21_4', '31_3'}}\n",
      "device available:  cpu\n",
      "1.0\n",
      "[[4]]\n",
      "0.052910052910052914\n",
      "69\n",
      "1377\n",
      "2.0\n",
      "[[4]]\n",
      "0.10582010582010583\n"
     ]
    },
    {
     "name": "stderr",
     "output_type": "stream",
     "text": [
      "C:\\Users\\Mr.Son\\anaconda3\\lib\\site-packages\\torch\\nn\\modules\\loss.py:432: UserWarning: Using a target size (torch.Size([32, 32])) that is different to the input size (torch.Size([32, 1])). This will likely lead to incorrect results due to broadcasting. Please ensure they have the same size.\n",
      "  return F.mse_loss(input, target, reduction=self.reduction)\n"
     ]
    },
    {
     "name": "stdout",
     "output_type": "stream",
     "text": [
      "142\n",
      "1455\n",
      "3.0\n",
      "[[6]]\n",
      "0.15873015873015875\n",
      "207\n",
      "1299\n",
      "4.0\n",
      "[[6]]\n",
      "0.21164021164021166\n",
      "274\n",
      "1327\n",
      "5.0\n",
      "[[6]]\n",
      "0.2645502645502646\n",
      "344\n",
      "1385\n",
      "6.0\n",
      "[[6]]\n",
      "0.3174603174603175\n",
      "409\n",
      "1294\n",
      "7.0\n",
      "[[6]]\n",
      "0.3703703703703704\n",
      "486\n",
      "1528\n",
      "8.0\n",
      "[[6]]\n",
      "0.4232804232804233\n",
      "551\n",
      "1293\n",
      "9.0\n",
      "[[0]]\n",
      "0.4761904761904762\n",
      "622\n",
      "1408\n",
      "10.0\n",
      "[[0]]\n",
      "0.5291005291005292\n",
      "687\n",
      "1293\n",
      "11.0\n",
      "[[6]]\n",
      "0.5820105820105821\n",
      "752\n",
      "1298\n",
      "12.0\n",
      "[[6]]\n",
      "0.634920634920635\n",
      "817\n",
      "1300\n",
      "13.0\n",
      "[[1]]\n",
      "0.6878306878306879\n",
      "886\n",
      "1368\n",
      "14.0\n",
      "[[6]]\n",
      "0.7407407407407408\n",
      "951\n",
      "1297\n",
      "15.0\n",
      "[[6]]\n",
      "0.7936507936507937\n",
      "1001\n",
      "1296\n",
      "16.0\n",
      "[[1]]\n",
      "0.8465608465608466\n",
      "1001\n",
      "1327\n",
      "17.0\n",
      "[[6]]\n",
      "0.8994708994708995\n",
      "1001\n",
      "1418\n",
      "18.0\n",
      "[[1]]\n",
      "0.9523809523809524\n",
      "1001\n",
      "1298\n",
      "19.0\n",
      "[[1]]\n",
      "1.0052910052910053\n",
      "1001\n",
      "1332\n",
      "20.0\n",
      "[[6]]\n",
      "1.0582010582010584\n",
      "1001\n",
      "1348\n"
     ]
    },
    {
     "data": {
      "image/png": "[encoded data removed]",
      "text/plain": [
       "<Figure size 432x288 with 1 Axes>"
      ]
     },
     "metadata": {
      "needs_background": "light"
     },
     "output_type": "display_data"
    }
   ],
   "source": [
    "import traceback\n",
    "\n",
    "try:\n",
    "    run(episodes=20)\n",
    "except Exception as e:\n",
    "    traceback.print_exc()\n",
    "    traci.close()\n"
   ]
  },
  {
   "cell_type": "code",
   "execution_count": 11,
   "metadata": {},
   "outputs": [],
   "source": [
    "def demo():\n",
    "    traci.start(gui)\n",
    "    total_time = 0\n",
    "    env = environment()\n",
    "    agent = agents(env.state_size(), env.action_size())\n",
    "    agent.load_policy('model.pt')\n",
    "    step = 0\n",
    "    prevPhase = 0\n",
    "    action = [0]\n",
    "    while traci.simulation.getMinExpectedNumber() > 0 and step < 5e3:\n",
    "        traci.simulationStep()\n",
    "        env.do_action(action)\n",
    "        env.cumulateWaitingTime()\n",
    "        step += 1\n",
    "        if step % 50 == 0:\n",
    "            state = env.getState()\n",
    "            phase = env.getPhase()\n",
    "            print(env.reward())\n",
    "\n",
    "            action = agent.select_actions(1 , state, True)\n",
    "            env.do_action(action)\n",
    "            print('action: ', action)\n",
    "    if (step >= 5e3-1):\n",
    "        print('fail to complete the episode')\n",
    "    print('total waiting time of rl traffic light', step)\n",
    "    traci.close()"
   ]
  },
  {
   "cell_type": "code",
   "execution_count": 12,
   "metadata": {},
   "outputs": [
    {
     "name": "stdout",
     "output_type": "stream",
     "text": [
      "{'0': ['GGGGGgrrrrrrrrgGGGGgrrrrrrrGr', 'GGGGGgrrrrrrrrgGGGGgrrrrrrrrr', 'yyyyygrrrrrrrryyyyygrrrrrrrrr', 'rrrrrGrrrrrrrrrrrrrGrrrrrrrrr', 'rrrrryrrrrrrrrrrrrryrrrrrrrrr', 'rrrrrrGGGGGGGgrrrrrrgGGGGggrG', 'rrrrrrGGGGGGGgrrrrrrgGGGGggrr', 'rrrrrryyyyyyyyrrrrrryyyyyyyrr']}\n",
      "{'0': {'11_0', '31_0', '21_2', '11_3', ':0_w2_0', '11_1', '31_2', ':0_w1_0', '31_1', '21_3', '21_0', '41_3', '11_2', '41_0', '21_1', '41_2', '41_1', '21_4', '31_3'}}\n",
      "device available:  cpu\n",
      "[[0.]]\n",
      "tensor([[-0.0431, -0.0206, -0.1032, -0.1231, -0.1021, -0.0774, -0.0276, -0.1625]])\n",
      "[[0.]]\n",
      "1\n",
      "tensor([[-0.0439, -0.0195, -0.1022, -0.1223, -0.1041, -0.0761, -0.0279, -0.1601]])\n",
      "[[0.]]\n",
      "tensor([[-0.0431, -0.0206, -0.1032, -0.1231, -0.1021, -0.0774, -0.0276, -0.1625]])\n",
      "[[0.]]\n",
      "tensor([[-0.0435, -0.0200, -0.1027, -0.1227, -0.1031, -0.0767, -0.0278, -0.1612]])\n",
      "[[0.]]\n",
      "tensor([[-0.0435, -0.0200, -0.1027, -0.1227, -0.1031, -0.0767, -0.0278, -0.1612]])\n",
      "[[0.]]\n",
      "tensor([[-0.0438, -0.0210, -0.1037, -0.1209, -0.1029, -0.0770, -0.0269, -0.1602]])\n",
      "[[0.]]\n",
      "tensor([[-0.0435, -0.0200, -0.1027, -0.1227, -0.1031, -0.0767, -0.0278, -0.1612]])\n",
      "[[0.]]\n",
      "tensor([[-0.0433, -0.0216, -0.1042, -0.1213, -0.1018, -0.0777, -0.0267, -0.1614]])\n",
      "[[0.]]\n",
      "tensor([[-0.0433, -0.0216, -0.1042, -0.1213, -0.1018, -0.0777, -0.0267, -0.1614]])\n",
      "[[0.]]\n",
      "tensor([[-0.0438, -0.0210, -0.1037, -0.1209, -0.1029, -0.0770, -0.0269, -0.1602]])\n",
      "[[-0.0224]]\n",
      "tensor([[-0.0501, -0.0290, -0.1116, -0.1226, -0.0845, -0.0748, -0.0303, -0.1588]])\n",
      "[[-0.1748]]\n",
      "tensor([[-0.0509, -0.0289, -0.1117, -0.1211, -0.0854, -0.0741, -0.0302, -0.1565]])\n",
      "[[-0.3494]]\n",
      "tensor([[-0.0492, -0.0280, -0.1108, -0.1178, -0.0907, -0.0754, -0.0278, -0.1555]])\n",
      "[[-0.0676]]\n",
      "6\n",
      "tensor([[-0.0684, -0.0312, -0.1158, -0.0975, -0.0934, -0.0653, -0.0320, -0.1227]])\n",
      "[[-0.0726]]\n",
      "1\n",
      "tensor([[-0.0504, -0.0305, -0.1131, -0.1225, -0.0819, -0.0752, -0.0301, -0.1592]])\n",
      "[[-0.0322]]\n",
      "6\n",
      "tensor([[-0.0504, -0.0308, -0.1134, -0.1209, -0.0828, -0.0754, -0.0294, -0.1582]])\n",
      "[[-0.04]]\n",
      "tensor([[-0.0523, -0.0320, -0.1147, -0.1209, -0.0800, -0.0749, -0.0305, -0.1573]])\n",
      "[[-0.04]]\n",
      "tensor([[-0.0523, -0.0320, -0.1147, -0.1209, -0.0800, -0.0749, -0.0305, -0.1573]])\n",
      "[[-0.04]]\n",
      "tensor([[-0.0514, -0.0318, -0.1145, -0.1209, -0.0805, -0.0750, -0.0299, -0.1577]])\n",
      "[[-0.04]]\n",
      "tensor([[-0.0504, -0.0308, -0.1134, -0.1209, -0.0828, -0.0754, -0.0294, -0.1582]])\n",
      "[[-0.04]]\n",
      "tensor([[-0.0523, -0.0320, -0.1147, -0.1209, -0.0800, -0.0749, -0.0305, -0.1573]])\n",
      "[[-0.04]]\n",
      "tensor([[-0.0504, -0.0308, -0.1134, -0.1209, -0.0828, -0.0754, -0.0294, -0.1582]])\n",
      "[[-0.04]]\n",
      "tensor([[-0.0491, -0.0298, -0.1125, -0.1206, -0.0853, -0.0763, -0.0286, -0.1591]])\n",
      "[[-0.04]]\n",
      "tensor([[-0.0523, -0.0320, -0.1147, -0.1209, -0.0800, -0.0749, -0.0305, -0.1573]])\n",
      "[[-0.04]]\n",
      "tensor([[-0.0491, -0.0298, -0.1125, -0.1206, -0.0853, -0.0763, -0.0286, -0.1591]])\n",
      "[[-0.04]]\n",
      "tensor([[-0.0442, -0.0233, -0.1059, -0.1208, -0.0989, -0.0777, -0.0268, -0.1611]])\n",
      "total waiting time of rl traffic light 1322\n"
     ]
    }
   ],
   "source": [
    "demo()"
   ]
  },
  {
   "cell_type": "code",
   "execution_count": null,
   "metadata": {},
   "outputs": [],
   "source": []
  }
 ],
 "metadata": {
  "kernelspec": {
   "display_name": "Python 3",
   "language": "python",
   "name": "python3"
  },
  "language_info": {
   "codemirror_mode": {
    "name": "ipython",
    "version": 3
   },
   "file_extension": ".py",
   "mimetype": "text/x-python",
   "name": "python",
   "nbconvert_exporter": "python",
   "pygments_lexer": "ipython3",
   "version": "3.7.6"
  }
 },
 "nbformat": 4,
 "nbformat_minor": 4
}
