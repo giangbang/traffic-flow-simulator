{
 "cells": [
  {
   "cell_type": "code",
   "execution_count": 1,
   "metadata": {},
   "outputs": [],
   "source": [
    "import os\n",
    "import sys\n",
    "import optparse\n",
    "from environment import environment\n",
    "from sumolib import checkBinary  # Checks for the binary in environ vars\n",
    "import traci\n",
    "from agent import agents"
   ]
  },
  {
   "cell_type": "code",
   "execution_count": 2,
   "metadata": {},
   "outputs": [
    {
     "name": "stdout",
     "output_type": "stream",
     "text": [
      "added SUMO_HOME to tools directory\n"
     ]
    }
   ],
   "source": [
    "if 'SUMO_HOME' in os.environ:\n",
    "    tools = os.path.join(os.environ['SUMO_HOME'], 'tools')\n",
    "    sys.path.append(tools)\n",
    "    print('added SUMO_HOME to tools directory')\n",
    "else:\n",
    "    sys.exit(\"please declare environment variable 'SUMO_HOME'\")\n",
    "\n",
    " "
   ]
  },
  {
   "cell_type": "code",
   "execution_count": 3,
   "metadata": {},
   "outputs": [],
   "source": [
    "sumoBinaryNoGui = checkBinary('sumo')\n",
    "sumoBinary = checkBinary('sumo-gui')\n",
    "\n",
    "nogui = [sumoBinaryNoGui, \"-c\", \"test.sumocfg\", '--no-warnings']\n",
    "gui = [sumoBinary, \"-c\", \"test.sumocfg\",\n",
    "                            '--start', '--quit-on-end']"
   ]
  },
  {
   "cell_type": "code",
   "execution_count": 4,
   "metadata": {},
   "outputs": [],
   "source": [
    "def default_run():\n",
    "    traci.start(gui)\n",
    "    total_time = 0\n",
    "    env = environment()\n",
    "    traci.trafficlight.setPhase('0', 0)\n",
    "    action = [0]\n",
    "    while traci.simulation.getMinExpectedNumber() > 0:\n",
    "        traci.simulationStep()\n",
    "        total_time += env.getWaitingTime()\n",
    "    print('total waiting time of defaul cyclic traffic light', total_time)\n",
    "    traci.close()"
   ]
  },
  {
   "cell_type": "code",
   "execution_count": 5,
   "metadata": {},
   "outputs": [],
   "source": [
    "# contains TraCI control loop\n",
    "def run(episodes):\n",
    "                             \n",
    "    traci.start(nogui)\n",
    "    env = environment()\n",
    "    agent = agents(env.state_size(), env.action_size())\n",
    "    agent.load_policy('model.pt')\n",
    "    traci.close()\n",
    "    epsilon = 0.1\n",
    "    ep = 0.\n",
    "    while ep < episodes:\n",
    "        ep+=1\n",
    "        print(int(ep))\n",
    "        total_waiting_time = 0\n",
    "        epsilon = ep / (episodes - 3.1)\n",
    "        prevPhase = 0\n",
    "        traci.start(nogui)\n",
    "        step = 0\n",
    "        prev = 0\n",
    "        action = [0]\n",
    "        print(epsilon)\n",
    "        while traci.simulation.getMinExpectedNumber() > 0 and step < 5e3:\n",
    "            traci.simulationStep()\n",
    "            env.do_action(action)\n",
    "            phase = env.getPhase()\n",
    "            total_waiting_time += env.getWaitingTime()\n",
    "           \n",
    "            if (step % 20 == 0):\n",
    "                state = env.getState()\n",
    "                action = agent.select_actions(epsilon , state)\n",
    "                nextState, reward = env.do_action(action)\n",
    "#                 print(reward)\n",
    "                agent.add_memmory(state, action, nextState, reward)\n",
    "                agent.train()\n",
    "            step += 1\n",
    "        print(len(agent.mem))      \n",
    "        if (step >= 5e3-1):\n",
    "            print('fail to complete the episode')\n",
    "        print(total_waiting_time)\n",
    "        traci.close()\n",
    "        \n",
    "    agent.save_policy('model.pt')\n",
    "    sys.stdout.flush()\n"
   ]
  },
  {
   "cell_type": "code",
   "execution_count": 6,
   "metadata": {},
   "outputs": [
    {
     "name": "stdout",
     "output_type": "stream",
     "text": [
      "{'0': ['GGGGGgrrrrrrrrgGGGGgrrrrrrrGr', 'GGGGGgrrrrrrrrgGGGGgrrrrrrrrr', 'yyyyygrrrrrrrryyyyygrrrrrrrrr', 'rrrrrGrrrrrrrrrrrrrGrrrrrrrrr', 'rrrrryrrrrrrrrrrrrryrrrrrrrrr', 'rrrrrrGGGGGGGgrrrrrrgGGGGggrG', 'rrrrrrGGGGGGGgrrrrrrgGGGGggrr', 'rrrrrryyyyyyyyrrrrrryyyyyyyrr']}\n",
      "{'0': {'21_1', '21_3', '21_2', '31_2', '41_3', ':0_w2_0', '11_2', '11_1', '11_0', '41_2', '21_4', '11_3', '31_0', '31_1', ':0_w1_0', '41_1', '41_0', '21_0', '31_3'}}\n",
      "total waiting time of defaul cyclic traffic light 10613983.0\n"
     ]
    }
   ],
   "source": [
    "default_run()"
   ]
  },
  {
   "cell_type": "code",
   "execution_count": 7,
   "metadata": {
    "scrolled": false
   },
   "outputs": [
    {
     "name": "stdout",
     "output_type": "stream",
     "text": [
      "{'0': ['GGGGGgrrrrrrrrgGGGGgrrrrrrrGr', 'GGGGGgrrrrrrrrgGGGGgrrrrrrrrr', 'yyyyygrrrrrrrryyyyygrrrrrrrrr', 'rrrrrGrrrrrrrrrrrrrGrrrrrrrrr', 'rrrrryrrrrrrrrrrrrryrrrrrrrrr', 'rrrrrrGGGGGGGgrrrrrrgGGGGggrG', 'rrrrrrGGGGGGGgrrrrrrgGGGGggrr', 'rrrrrryyyyyyyyrrrrrryyyyyyyrr']}\n",
      "{'0': {'21_1', '21_3', '21_2', '31_2', '41_3', ':0_w2_0', '11_2', '11_1', '11_0', '41_2', '21_4', '11_3', '31_0', '31_1', ':0_w1_0', '41_1', '41_0', '21_0', '31_3'}}\n",
      "device available:  cpu\n",
      "1\n",
      "0.0591715976331361\n"
     ]
    },
    {
     "name": "stderr",
     "output_type": "stream",
     "text": [
      "C:\\Users\\Mr.Son\\anaconda3\\lib\\site-packages\\torch\\nn\\modules\\loss.py:432: UserWarning: Using a target size (torch.Size([32, 32])) that is different to the input size (torch.Size([32, 1])). This will likely lead to incorrect results due to broadcasting. Please ensure they have the same size.\n",
      "  return F.mse_loss(input, target, reduction=self.reduction)\n"
     ]
    },
    {
     "name": "stdout",
     "output_type": "stream",
     "text": [
      "173\n",
      "40522240.0\n",
      "2\n",
      "0.1183431952662722\n",
      "328\n",
      "29955916.0\n",
      "3\n",
      "0.1775147928994083\n",
      "461\n",
      "27468934.0\n",
      "4\n",
      "0.2366863905325444\n",
      "612\n",
      "32299604.0\n",
      "5\n",
      "0.2958579881656805\n",
      "758\n",
      "25427816.0\n",
      "6\n",
      "0.3550295857988166\n",
      "931\n",
      "35920834.0\n",
      "7\n",
      "0.4142011834319527\n",
      "1001\n",
      "38600179.0\n",
      "8\n",
      "0.4733727810650888\n",
      "1001\n",
      "40491664.0\n",
      "9\n",
      "0.5325443786982249\n",
      "1001\n",
      "41579626.0\n",
      "10\n",
      "0.591715976331361\n",
      "1001\n",
      "47418812.0\n",
      "11\n",
      "0.6508875739644971\n",
      "1001\n",
      "29286085.0\n",
      "12\n",
      "0.7100591715976332\n",
      "1001\n",
      "19594308.0\n",
      "13\n",
      "0.7692307692307693\n",
      "1001\n",
      "30676050.0\n",
      "14\n",
      "0.8284023668639054\n",
      "1001\n",
      "28832319.0\n",
      "15\n",
      "0.8875739644970415\n",
      "1001\n",
      "36737810.0\n",
      "16\n",
      "0.9467455621301776\n",
      "1001\n",
      "21385071.0\n",
      "17\n",
      "1.0059171597633136\n",
      "1001\n",
      "21939953.0\n",
      "18\n",
      "1.0650887573964498\n",
      "1001\n",
      "31593345.0\n",
      "19\n",
      "1.124260355029586\n",
      "1001\n",
      "73264525.0\n",
      "20\n",
      "1.183431952662722\n",
      "1001\n",
      "25092724.0\n"
     ]
    }
   ],
   "source": [
    "import traceback\n",
    "\n",
    "try:\n",
    "    run(episodes=20)\n",
    "except Exception as e:\n",
    "    traceback.print_exc()\n",
    "    traci.close()\n"
   ]
  },
  {
   "cell_type": "code",
   "execution_count": 8,
   "metadata": {},
   "outputs": [],
   "source": [
    "def demo():\n",
    "    traci.start(gui)\n",
    "    total_time = 0\n",
    "    env = environment()\n",
    "    agent = agents(env.state_size(), env.action_size())\n",
    "    agent.load_policy('model.pt')\n",
    "    step = 0\n",
    "    prevPhase = 0\n",
    "    action = [0]\n",
    "    while traci.simulation.getMinExpectedNumber() > 0 and step < 5e3:\n",
    "        traci.simulationStep()\n",
    "        env.do_action(action)\n",
    "        step += 1\n",
    "        total_time += env.getWaitingTime()\n",
    "        if step % 100 == 0:\n",
    "            state = env.getState()\n",
    "            phase = env.getPhase()\n",
    "            if (phase != prevPhase):\n",
    "                print(phase)\n",
    "                prevPhase = phase\n",
    "            action = agent.select_actions(1 , state)\n",
    "            nextState, reward = env.do_action(action)\n",
    "    if (step >= 5e3-1):\n",
    "        print('fail to complete the episode')\n",
    "    print('total waiting time of rl traffic light', total_time)\n",
    "    traci.close()"
   ]
  },
  {
   "cell_type": "code",
   "execution_count": 9,
   "metadata": {},
   "outputs": [
    {
     "name": "stdout",
     "output_type": "stream",
     "text": [
      "{'0': ['GGGGGgrrrrrrrrgGGGGgrrrrrrrGr', 'GGGGGgrrrrrrrrgGGGGgrrrrrrrrr', 'yyyyygrrrrrrrryyyyygrrrrrrrrr', 'rrrrrGrrrrrrrrrrrrrGrrrrrrrrr', 'rrrrryrrrrrrrrrrrrryrrrrrrrrr', 'rrrrrrGGGGGGGgrrrrrrgGGGGggrG', 'rrrrrrGGGGGGGgrrrrrrgGGGGggrr', 'rrrrrryyyyyyyyrrrrrryyyyyyyrr']}\n",
      "{'0': {'21_1', '21_3', '21_2', '31_2', '41_3', ':0_w2_0', '11_2', '11_1', '11_0', '41_2', '21_4', '11_3', '31_0', '31_1', ':0_w1_0', '41_1', '41_0', '21_0', '31_3'}}\n",
      "device available:  cpu\n",
      "7\n",
      "2\n",
      "5\n",
      "2\n",
      "5\n",
      "2\n",
      "5\n",
      "1\n",
      "4\n",
      "1\n",
      "4\n",
      "2\n",
      "5\n",
      "1\n",
      "0\n",
      "1\n",
      "fail to complete the episode\n",
      "total waiting time of rl traffic light 59235297.0\n"
     ]
    }
   ],
   "source": [
    "demo()"
   ]
  },
  {
   "cell_type": "code",
   "execution_count": null,
   "metadata": {},
   "outputs": [],
   "source": []
  }
 ],
 "metadata": {
  "kernelspec": {
   "display_name": "Python 3",
   "language": "python",
   "name": "python3"
  },
  "language_info": {
   "codemirror_mode": {
    "name": "ipython",
    "version": 3
   },
   "file_extension": ".py",
   "mimetype": "text/x-python",
   "name": "python",
   "nbconvert_exporter": "python",
   "pygments_lexer": "ipython3",
   "version": "3.7.6"
  }
 },
 "nbformat": 4,
 "nbformat_minor": 4
}
