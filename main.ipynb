{
 "cells": [
  {
   "cell_type": "code",
   "execution_count": 1,
   "metadata": {},
   "outputs": [],
   "source": [
    "!pwd\n",
    "!ls\n",
    "!rm -r *\n",
    "!ls\n",
    "!git clone 'https://github.com/giangbang/traffic-flow-simulator.git'"
   ]
  },
  {
   "cell_type": "code",
   "execution_count": null,
   "metadata": {},
   "outputs": [],
   "source": [
    "!add-apt-repository ppa:sumo/stable -y\n",
    "!apt-get update -y\n",
    "!apt-get install sumo sumo-tools sumo-doc\n",
    "!pip install traci"
   ]
  },
  {
   "cell_type": "code",
   "execution_count": null,
   "metadata": {},
   "outputs": [],
   "source": [
    "import os\n",
    "os.environ['SUMO_HOME'] = \"/usr/share/sumo/\""
   ]
  },
  {
   "cell_type": "code",
   "execution_count": 28,
   "metadata": {
    "scrolled": true
   },
   "outputs": [
    {
     "name": "stdout",
     "output_type": "stream",
     "text": [
      "Loading configuration ... done.\n",
      "Step #0.00 (0ms ?*RT. ?UPS, TraCI: 3ms, vehicles TOT 0 ACT 0 BUF 0)                      \n",
      "\n",
      "added SUMO_HOME to tools directory\n",
      "{'nogui': False, 'train': False, 'episode': 1, 'yellow_phase': 5, 'green_phase': 10, 'stop': True}\n",
      "device available:  cpu\n",
      "Error: cannot load 0\n",
      "{'0': 8}\n",
      "{'0': 3}\n",
      "========================================\n",
      "Episode 0\n",
      "0.0\n",
      "{'0': True}\n",
      "{'0': True}\n",
      "{'0': False}\n",
      "{'0': True}\n",
      "{'0': False}\n",
      "{'0': True}\n",
      "{'0': True}\n",
      "{'0': False}\n",
      "{'0': True}\n",
      "{'0': False}\n",
      "{'0': True}\n",
      "{'0': True}\n",
      "{'0': False}\n",
      "{'0': True}\n",
      "{'0': False}\n",
      "{'0': True}\n",
      "{'0': False}\n",
      "{'0': True}\n",
      "{'0': True}\n",
      "{'0': False}\n",
      "total reward: [[-0.49]]\n",
      "minimum reward: [[-0.145]]\n",
      "maximum reward: [[0.]]\n",
      "step:  100\n",
      "Done saving 0\n"
     ]
    }
   ],
   "source": [
    "!python main.py --episode 1  --stop"
   ]
  },
  {
   "cell_type": "code",
   "execution_count": null,
   "metadata": {},
   "outputs": [],
   "source": []
  }
 ],
 "metadata": {
  "kernelspec": {
   "display_name": "Python 3",
   "language": "python",
   "name": "python3"
  },
  "language_info": {
   "codemirror_mode": {
    "name": "ipython",
    "version": 3
   },
   "file_extension": ".py",
   "mimetype": "text/x-python",
   "name": "python",
   "nbconvert_exporter": "python",
   "pygments_lexer": "ipython3",
   "version": "3.7.6"
  }
 },
 "nbformat": 4,
 "nbformat_minor": 4
}
